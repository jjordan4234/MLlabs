{
 "cells": [
  {
   "cell_type": "markdown",
   "metadata": {
    "id": "IU2Oe2lgy3XV"
   },
   "source": [
    "# Web Scraping\n",
    "\n",
    "Last time, we looked at REST API's as a source of data. You can get lots of very high quality data this way.\n",
    "\n",
    "Some data is available online, but not through an API. When this is the case, some times you can simply copy and paste the data into a .csv file and go on with your life. But if there are many records to parse and combine into a dataset, that might be impossible. Can we automate the collection of data from online sources?\n",
    "\n",
    "This is called web scraping. Broadly speaking: Web scraping is legal, but what you plan to do with the results of your scraping might not be. In general, most sites do not want you to scrape them at this point, but there is not really a way to stop you if you are sufficiently motivated. Be careful to use server resources respectfully (not too many requests per unit time), think seriously about privacy concerns, and be careful who you share your work with."
   ]
  },
  {
   "cell_type": "markdown",
   "metadata": {
    "id": "ui3HNFVXy3XX"
   },
   "source": [
    "We'll be scraping data about used cars in Charlottesville from Craigslist. This will give us a chance to put those wrangling, EDA, and visualization skills to work.\n",
    "\n",
    "We'll use the `requests` package, as we did with API's, but will be getting the kinds of web pages you see everyday. Again, we'll use a header with a user-agent that masks our true identity so that we're not rejected by the server. This particular url points to the car listings for Craigslist in Charlottesville."
   ]
  },
  {
   "cell_type": "markdown",
   "metadata": {
    "id": "a8yVtKAxy3XY"
   },
   "source": [
    "## 1. Pick something else on Craigslist: Musical instruments, roommates, antiques, etc. Look at the search page and its source code. Record which fields/data you would like to gather, and what kinds of EDA you'd do with it. I look at used cars below."
   ]
  },
  {
   "cell_type": "code",
   "execution_count": 48,
   "metadata": {
    "id": "bT63yifry3XX"
   },
   "outputs": [],
   "source": [
    "import numpy as np\n",
    "import matplotlib.pyplot as plt\n",
    "import pandas as pd\n",
    "import seaborn as sns\n",
    "\n",
    "import requests # Page requests\n",
    "\n",
    "header = {'User-Agent': 'Mozilla/5.0 (Windows NT 10.0; Win64; x64; rv:124.0) Gecko/20100101 Firefox/124.0'}\n",
    "url = 'https://richmond.craigslist.org/search/ela?query=tv#search=1~gallery~0~0'\n",
    "raw = requests.get(url,headers=header) # Get page"
   ]
  },
  {
   "cell_type": "markdown",
   "metadata": {
    "id": "GS1XkRlXy3XX"
   },
   "source": [
    "Now that we have that particular page available locally, we want to **parse** it and get results from it. To do that, we can use a package called `beautifulSoup` or `bs4`.\n",
    "\n",
    "What does `beautifulSoup` do for us? Let's go to the web page of interest. You probably see something like this:\n",
    "\n",
    "![Listings](craigslist.png \"Craigslist\")\n",
    "\n",
    "But if you \"view page source\" -- which is CTRL+U -- in Chrome, you see what the computer sees:\n",
    "\n",
    "![Listings](craigslist_source.png \"Craigslist\")\n",
    "\n",
    "Since your web browser needs lots of instructions about how to render the text, pictures, and other content on your web page, there are a lot of clues about where the data live and how to extricate them from a page. These clues are called **tags**. If you wander the source for the search page on cars, you see a particular `class = \"cl-static-search-result\"` term appear attached to each listing:\n",
    "\n",
    "![Listings](listing.png \"Craigslist\")\n",
    "\n",
    "This structure can be exploited to search the page for information. This kind of detective work -- looking at the page source, finding the interesting tages, and then searching the page with `beautifulSoup` -- is the basic job of web scraping."
   ]
  },
  {
   "cell_type": "markdown",
   "metadata": {
    "id": "NiO-E2wuy3XZ"
   },
   "source": [
    "## 2. Get your search results of interest and extract data from them, using code similar to what's below."
   ]
  },
  {
   "cell_type": "markdown",
   "metadata": {
    "id": "fEO2NpZ8y3XY"
   },
   "source": [
    "The following code chunk takes the raw content from `requests` and turns it into a beautifulSoup object, which can search the page and return results for us:"
   ]
  },
  {
   "cell_type": "code",
   "execution_count": 49,
   "metadata": {
    "id": "lllobrYIy3XY"
   },
   "outputs": [],
   "source": [
    "from bs4 import BeautifulSoup as soup # HTML parser\n",
    "bsObj = soup(raw.content,'html.parser') # Parse the html\n",
    "listings = bsObj.find_all(class_=\"cl-static-search-result\") # Find all listings"
   ]
  },
  {
   "cell_type": "markdown",
   "metadata": {
    "id": "ymO8JbMmy3XY"
   },
   "source": [
    "Why is the argument `class_` and not just `class`? The word `class` is a reserved keyword for Python, and cannot be used by anyone else, similar to `True` and `False`. But since we want the `class = \"cl-static-search-result\"` terms, we need to use the `class_` argument to the `.find_all` method.\n",
    "\n",
    "The `.find_all` function dredges the entire page and finds all the instances of `class = \"cl-static-search-result\"`, resulting in a list of entries. We can then parse the entries.\n",
    "\n",
    "For each listing, we'll use the `.find` method to search within the listing record for specific information. To get the information we want, we can then use `.get_text()`.\n",
    "\n",
    "In the code below, two more things happen.\n",
    "\n",
    "First, I would like to get the brand of the car from the post title, if possible. To do this, I split the title into words using `title.split()`, and then I use a list comprehension to look over every word in the title and check whether it appears in the `brands` list.\n",
    "\n",
    "Second, I would like to get the year the car was built, so I can determine the vehicle's age. To do this, I use a thing called **regular expressions** that provides a language for expressing patterns. Do I remember how to do this off the top of my head? No, I read a few pages in a book and looked on StackOverflow for answers. Roughly, in order to express the idea \"any year starting with 20xx,\" you can write `20[0-9][0-9]`, and for \"any year starting with 19xx,\" you can write `19[0-9][0-9]`. The `[0-9]`'s act as wildcards for any digit. This allows me to use the `re` package to find any instances of year-like numbers in the title text, using `re.search(r'20[0-9][0-9]|19[0-9][0-9]', title )`.\n",
    "\n",
    "This is all nested in a for-loop over the listings, and the data is appended to a list."
   ]
  },
  {
   "cell_type": "code",
   "execution_count": 50,
   "metadata": {
    "id": "jw-U4BA-y3XY"
   },
   "outputs": [],
   "source": [
    "import re # Regular expressions\n",
    "\n",
    "brands = ['sony', 'sharp','insignia','vizio','sceptre','lg','toshiba', 'samsung', 'crystal', 'roku',\n",
    "          'emmerson', 'westinghouse', 'mitsubishi', 'element', 'polaroid', 'haier', 'sanyo', 'panasonic',\n",
    "         'phillips', 'jvc', '']\n",
    "\n",
    "data = [] # We'll save our listings in this object\n",
    "for k in range( len(listings) ):\n",
    "    title = listings[k].find('div',class_='title').get_text().lower()\n",
    "    price = listings[k].find('div',class_='price').get_text()\n",
    "    link = listings[k].find(href=True)['href']\n",
    "    # Get brand from the title string:\n",
    "    words = title.split()\n",
    "    hits = [word for word in words if word in brands] # Find brands in the title\n",
    "    if len(hits) == 0:\n",
    "        brand = 'missing'\n",
    "    else:\n",
    "        brand = hits[0]\n",
    "    # Extract tv size from the title string using a regex pattern:\n",
    "    regex_search = re.search(r\"([0-9][0-9])\", title)\n",
    "    \n",
    "    if regex_search:\n",
    "        size = regex_search.group(0)  # Capture size\n",
    "    else:\n",
    "        size = np.nan  # If no match, set size as NaN\n",
    "    \n",
    "    # Append data to the list\n",
    "    data.append({'title': title, 'price': price, 'size':size, 'link': link, 'brand': brand})"
   ]
  },
  {
   "cell_type": "markdown",
   "metadata": {
    "id": "v8TjNu6uy3Xa"
   },
   "source": [
    "## 3. Wrangle your data, do some EDA, and make some plots. Try to find some interesting relationships or stories to tell about your data."
   ]
  },
  {
   "cell_type": "markdown",
   "metadata": {
    "id": "Mz4zVi80y3XZ"
   },
   "source": [
    "\n",
    "With the data scraped from Craigslist, we can put it in a dataframe and wrangle it. Of course, price and year come in as text, not numbers, and need to be typecast/coerced:"
   ]
  },
  {
   "cell_type": "code",
   "execution_count": 51,
   "metadata": {
    "id": "KY1njgHcy3XZ",
    "outputId": "985126b7-e5e5-40c3-ba09-ed0b56625f69"
   },
   "outputs": [
    {
     "name": "stdout",
     "output_type": "stream",
     "text": [
      "(68, 5)\n"
     ]
    },
    {
     "data": {
      "text/html": [
       "<div>\n",
       "<style scoped>\n",
       "    .dataframe tbody tr th:only-of-type {\n",
       "        vertical-align: middle;\n",
       "    }\n",
       "\n",
       "    .dataframe tbody tr th {\n",
       "        vertical-align: top;\n",
       "    }\n",
       "\n",
       "    .dataframe thead th {\n",
       "        text-align: right;\n",
       "    }\n",
       "</style>\n",
       "<table border=\"1\" class=\"dataframe\">\n",
       "  <thead>\n",
       "    <tr style=\"text-align: right;\">\n",
       "      <th></th>\n",
       "      <th>title</th>\n",
       "      <th>price</th>\n",
       "      <th>size</th>\n",
       "      <th>link</th>\n",
       "      <th>brand</th>\n",
       "    </tr>\n",
       "  </thead>\n",
       "  <tbody>\n",
       "    <tr>\n",
       "      <th>0</th>\n",
       "      <td>* * * insignia 24\" led tv with built-in dvd pl...</td>\n",
       "      <td>80</td>\n",
       "      <td>24.0</td>\n",
       "      <td>https://richmond.craigslist.org/ele/d/lightfoo...</td>\n",
       "      <td>insignia</td>\n",
       "    </tr>\n",
       "    <tr>\n",
       "      <th>1</th>\n",
       "      <td>65\" crystal uhd 4k samsung smart tv</td>\n",
       "      <td>380</td>\n",
       "      <td>65.0</td>\n",
       "      <td>https://richmond.craigslist.org/ele/d/jarratt-...</td>\n",
       "      <td>crystal</td>\n",
       "    </tr>\n",
       "    <tr>\n",
       "      <th>2</th>\n",
       "      <td>vizio 37\" 1080p lcd tv</td>\n",
       "      <td>165</td>\n",
       "      <td>37.0</td>\n",
       "      <td>https://richmond.craigslist.org/ele/d/henrico-...</td>\n",
       "      <td>vizio</td>\n",
       "    </tr>\n",
       "    <tr>\n",
       "      <th>3</th>\n",
       "      <td>onn 32\" roku smart tv w/remote</td>\n",
       "      <td>70</td>\n",
       "      <td>32.0</td>\n",
       "      <td>https://richmond.craigslist.org/ele/d/thornbur...</td>\n",
       "      <td>roku</td>\n",
       "    </tr>\n",
       "    <tr>\n",
       "      <th>4</th>\n",
       "      <td>cable tv interconnect cables + splitters</td>\n",
       "      <td>10</td>\n",
       "      <td>NaN</td>\n",
       "      <td>https://richmond.craigslist.org/ele/d/richmond...</td>\n",
       "      <td>missing</td>\n",
       "    </tr>\n",
       "  </tbody>\n",
       "</table>\n",
       "</div>"
      ],
      "text/plain": [
       "                                               title  price  size  \\\n",
       "0  * * * insignia 24\" led tv with built-in dvd pl...     80  24.0   \n",
       "1                65\" crystal uhd 4k samsung smart tv    380  65.0   \n",
       "2                             vizio 37\" 1080p lcd tv    165  37.0   \n",
       "3                     onn 32\" roku smart tv w/remote     70  32.0   \n",
       "4           cable tv interconnect cables + splitters     10   NaN   \n",
       "\n",
       "                                                link     brand  \n",
       "0  https://richmond.craigslist.org/ele/d/lightfoo...  insignia  \n",
       "1  https://richmond.craigslist.org/ele/d/jarratt-...   crystal  \n",
       "2  https://richmond.craigslist.org/ele/d/henrico-...     vizio  \n",
       "3  https://richmond.craigslist.org/ele/d/thornbur...      roku  \n",
       "4  https://richmond.craigslist.org/ele/d/richmond...   missing  "
      ]
     },
     "execution_count": 51,
     "metadata": {},
     "output_type": "execute_result"
    }
   ],
   "source": [
    "## Wrangle the data\n",
    "df = pd.DataFrame.from_dict(data)\n",
    "df['price'] = df['price'].str.replace('$','')\n",
    "df['price'] = df['price'].str.replace(',','')\n",
    "df['price'] = pd.to_numeric(df['price'],errors='coerce')\n",
    "df['size'] = pd.to_numeric(df['size'],errors='coerce')\n",
    "\n",
    "print(df.shape)\n",
    "df.to_csv('craigslist_dc_surfboards.csv') # Save data in case of a disaster\n",
    "df.head()"
   ]
  },
  {
   "cell_type": "markdown",
   "metadata": {
    "id": "YBcg4XUoy3XZ"
   },
   "source": [
    "With the data in and wrangled, we can now do EDA:"
   ]
  },
  {
   "cell_type": "code",
   "execution_count": 52,
   "metadata": {
    "id": "qBMwX_rFy3XZ",
    "outputId": "9abfa7a7-f4fb-4563-c0f6-531f74310c3e"
   },
   "outputs": [
    {
     "name": "stdout",
     "output_type": "stream",
     "text": [
      "count      68.000000\n",
      "mean      119.205882\n",
      "std       168.386510\n",
      "min         0.000000\n",
      "25%        38.750000\n",
      "50%        57.500000\n",
      "75%       131.250000\n",
      "max      1200.000000\n",
      "Name: price, dtype: float64\n"
     ]
    },
    {
     "data": {
      "image/png": "[encoded data removed]",
      "text/plain": [
       "<Figure size 432x288 with 1 Axes>"
      ]
     },
     "metadata": {
      "needs_background": "light"
     },
     "output_type": "display_data"
    },
    {
     "name": "stdout",
     "output_type": "stream",
     "text": [
      "count    49.000000\n",
      "mean     42.040816\n",
      "std      14.380194\n",
      "min      15.000000\n",
      "25%      32.000000\n",
      "50%      40.000000\n",
      "75%      52.000000\n",
      "max      85.000000\n",
      "Name: size, dtype: float64\n"
     ]
    },
    {
     "data": {
      "image/png": "[encoded data removed]",
      "text/plain": [
       "<Figure size 432x288 with 1 Axes>"
      ]
     },
     "metadata": {
      "needs_background": "light"
     },
     "output_type": "display_data"
    }
   ],
   "source": [
    "# EDA for price and age:\n",
    "print(df['price'].describe())\n",
    "df['price'].hist(grid=False)\n",
    "plt.show()\n",
    "print(df['size'].describe())\n",
    "df['size'].hist(grid=False)\n",
    "plt.show()"
   ]
  },
  {
   "cell_type": "code",
   "execution_count": 53,
   "metadata": {
    "id": "xsJPUF2wy3XZ",
    "outputId": "9a613e49-3b2b-4214-9ae3-9a5f0986ff6e"
   },
   "outputs": [
    {
     "data": {
      "text/html": [
       "<div>\n",
       "<style scoped>\n",
       "    .dataframe tbody tr th:only-of-type {\n",
       "        vertical-align: middle;\n",
       "    }\n",
       "\n",
       "    .dataframe tbody tr th {\n",
       "        vertical-align: top;\n",
       "    }\n",
       "\n",
       "    .dataframe thead tr th {\n",
       "        text-align: left;\n",
       "    }\n",
       "\n",
       "    .dataframe thead tr:last-of-type th {\n",
       "        text-align: right;\n",
       "    }\n",
       "</style>\n",
       "<table border=\"1\" class=\"dataframe\">\n",
       "  <thead>\n",
       "    <tr>\n",
       "      <th></th>\n",
       "      <th colspan=\"8\" halign=\"left\">price</th>\n",
       "    </tr>\n",
       "    <tr>\n",
       "      <th></th>\n",
       "      <th>count</th>\n",
       "      <th>mean</th>\n",
       "      <th>std</th>\n",
       "      <th>min</th>\n",
       "      <th>25%</th>\n",
       "      <th>50%</th>\n",
       "      <th>75%</th>\n",
       "      <th>max</th>\n",
       "    </tr>\n",
       "    <tr>\n",
       "      <th>brand</th>\n",
       "      <th></th>\n",
       "      <th></th>\n",
       "      <th></th>\n",
       "      <th></th>\n",
       "      <th></th>\n",
       "      <th></th>\n",
       "      <th></th>\n",
       "      <th></th>\n",
       "    </tr>\n",
       "  </thead>\n",
       "  <tbody>\n",
       "    <tr>\n",
       "      <th>crystal</th>\n",
       "      <td>1.0</td>\n",
       "      <td>380.000000</td>\n",
       "      <td>NaN</td>\n",
       "      <td>380.0</td>\n",
       "      <td>380.00</td>\n",
       "      <td>380.0</td>\n",
       "      <td>380.00</td>\n",
       "      <td>380.0</td>\n",
       "    </tr>\n",
       "    <tr>\n",
       "      <th>element</th>\n",
       "      <td>1.0</td>\n",
       "      <td>25.000000</td>\n",
       "      <td>NaN</td>\n",
       "      <td>25.0</td>\n",
       "      <td>25.00</td>\n",
       "      <td>25.0</td>\n",
       "      <td>25.00</td>\n",
       "      <td>25.0</td>\n",
       "    </tr>\n",
       "    <tr>\n",
       "      <th>emmerson</th>\n",
       "      <td>1.0</td>\n",
       "      <td>30.000000</td>\n",
       "      <td>NaN</td>\n",
       "      <td>30.0</td>\n",
       "      <td>30.00</td>\n",
       "      <td>30.0</td>\n",
       "      <td>30.00</td>\n",
       "      <td>30.0</td>\n",
       "    </tr>\n",
       "    <tr>\n",
       "      <th>haier</th>\n",
       "      <td>1.0</td>\n",
       "      <td>35.000000</td>\n",
       "      <td>NaN</td>\n",
       "      <td>35.0</td>\n",
       "      <td>35.00</td>\n",
       "      <td>35.0</td>\n",
       "      <td>35.00</td>\n",
       "      <td>35.0</td>\n",
       "    </tr>\n",
       "    <tr>\n",
       "      <th>insignia</th>\n",
       "      <td>1.0</td>\n",
       "      <td>80.000000</td>\n",
       "      <td>NaN</td>\n",
       "      <td>80.0</td>\n",
       "      <td>80.00</td>\n",
       "      <td>80.0</td>\n",
       "      <td>80.00</td>\n",
       "      <td>80.0</td>\n",
       "    </tr>\n",
       "    <tr>\n",
       "      <th>jvc</th>\n",
       "      <td>1.0</td>\n",
       "      <td>400.000000</td>\n",
       "      <td>NaN</td>\n",
       "      <td>400.0</td>\n",
       "      <td>400.00</td>\n",
       "      <td>400.0</td>\n",
       "      <td>400.00</td>\n",
       "      <td>400.0</td>\n",
       "    </tr>\n",
       "    <tr>\n",
       "      <th>lg</th>\n",
       "      <td>3.0</td>\n",
       "      <td>158.333333</td>\n",
       "      <td>196.362760</td>\n",
       "      <td>40.0</td>\n",
       "      <td>45.00</td>\n",
       "      <td>50.0</td>\n",
       "      <td>217.50</td>\n",
       "      <td>385.0</td>\n",
       "    </tr>\n",
       "    <tr>\n",
       "      <th>missing</th>\n",
       "      <td>28.0</td>\n",
       "      <td>70.571429</td>\n",
       "      <td>74.895695</td>\n",
       "      <td>0.0</td>\n",
       "      <td>25.00</td>\n",
       "      <td>50.0</td>\n",
       "      <td>83.75</td>\n",
       "      <td>300.0</td>\n",
       "    </tr>\n",
       "    <tr>\n",
       "      <th>mitsubishi</th>\n",
       "      <td>1.0</td>\n",
       "      <td>50.000000</td>\n",
       "      <td>NaN</td>\n",
       "      <td>50.0</td>\n",
       "      <td>50.00</td>\n",
       "      <td>50.0</td>\n",
       "      <td>50.00</td>\n",
       "      <td>50.0</td>\n",
       "    </tr>\n",
       "    <tr>\n",
       "      <th>panasonic</th>\n",
       "      <td>3.0</td>\n",
       "      <td>208.333333</td>\n",
       "      <td>170.171482</td>\n",
       "      <td>75.0</td>\n",
       "      <td>112.50</td>\n",
       "      <td>150.0</td>\n",
       "      <td>275.00</td>\n",
       "      <td>400.0</td>\n",
       "    </tr>\n",
       "    <tr>\n",
       "      <th>polaroid</th>\n",
       "      <td>1.0</td>\n",
       "      <td>45.000000</td>\n",
       "      <td>NaN</td>\n",
       "      <td>45.0</td>\n",
       "      <td>45.00</td>\n",
       "      <td>45.0</td>\n",
       "      <td>45.00</td>\n",
       "      <td>45.0</td>\n",
       "    </tr>\n",
       "    <tr>\n",
       "      <th>roku</th>\n",
       "      <td>2.0</td>\n",
       "      <td>70.000000</td>\n",
       "      <td>0.000000</td>\n",
       "      <td>70.0</td>\n",
       "      <td>70.00</td>\n",
       "      <td>70.0</td>\n",
       "      <td>70.00</td>\n",
       "      <td>70.0</td>\n",
       "    </tr>\n",
       "    <tr>\n",
       "      <th>samsung</th>\n",
       "      <td>15.0</td>\n",
       "      <td>217.666667</td>\n",
       "      <td>285.205857</td>\n",
       "      <td>30.0</td>\n",
       "      <td>82.50</td>\n",
       "      <td>150.0</td>\n",
       "      <td>245.00</td>\n",
       "      <td>1200.0</td>\n",
       "    </tr>\n",
       "    <tr>\n",
       "      <th>sanyo</th>\n",
       "      <td>2.0</td>\n",
       "      <td>42.500000</td>\n",
       "      <td>10.606602</td>\n",
       "      <td>35.0</td>\n",
       "      <td>38.75</td>\n",
       "      <td>42.5</td>\n",
       "      <td>46.25</td>\n",
       "      <td>50.0</td>\n",
       "    </tr>\n",
       "    <tr>\n",
       "      <th>sceptre</th>\n",
       "      <td>1.0</td>\n",
       "      <td>10.000000</td>\n",
       "      <td>NaN</td>\n",
       "      <td>10.0</td>\n",
       "      <td>10.00</td>\n",
       "      <td>10.0</td>\n",
       "      <td>10.00</td>\n",
       "      <td>10.0</td>\n",
       "    </tr>\n",
       "    <tr>\n",
       "      <th>sony</th>\n",
       "      <td>1.0</td>\n",
       "      <td>75.000000</td>\n",
       "      <td>NaN</td>\n",
       "      <td>75.0</td>\n",
       "      <td>75.00</td>\n",
       "      <td>75.0</td>\n",
       "      <td>75.00</td>\n",
       "      <td>75.0</td>\n",
       "    </tr>\n",
       "    <tr>\n",
       "      <th>vizio</th>\n",
       "      <td>4.0</td>\n",
       "      <td>90.000000</td>\n",
       "      <td>65.701344</td>\n",
       "      <td>30.0</td>\n",
       "      <td>37.50</td>\n",
       "      <td>82.5</td>\n",
       "      <td>135.00</td>\n",
       "      <td>165.0</td>\n",
       "    </tr>\n",
       "    <tr>\n",
       "      <th>westinghouse</th>\n",
       "      <td>1.0</td>\n",
       "      <td>50.000000</td>\n",
       "      <td>NaN</td>\n",
       "      <td>50.0</td>\n",
       "      <td>50.00</td>\n",
       "      <td>50.0</td>\n",
       "      <td>50.00</td>\n",
       "      <td>50.0</td>\n",
       "    </tr>\n",
       "  </tbody>\n",
       "</table>\n",
       "</div>"
      ],
      "text/plain": [
       "             price                                                        \\\n",
       "             count        mean         std    min     25%    50%     75%   \n",
       "brand                                                                      \n",
       "crystal        1.0  380.000000         NaN  380.0  380.00  380.0  380.00   \n",
       "element        1.0   25.000000         NaN   25.0   25.00   25.0   25.00   \n",
       "emmerson       1.0   30.000000         NaN   30.0   30.00   30.0   30.00   \n",
       "haier          1.0   35.000000         NaN   35.0   35.00   35.0   35.00   \n",
       "insignia       1.0   80.000000         NaN   80.0   80.00   80.0   80.00   \n",
       "jvc            1.0  400.000000         NaN  400.0  400.00  400.0  400.00   \n",
       "lg             3.0  158.333333  196.362760   40.0   45.00   50.0  217.50   \n",
       "missing       28.0   70.571429   74.895695    0.0   25.00   50.0   83.75   \n",
       "mitsubishi     1.0   50.000000         NaN   50.0   50.00   50.0   50.00   \n",
       "panasonic      3.0  208.333333  170.171482   75.0  112.50  150.0  275.00   \n",
       "polaroid       1.0   45.000000         NaN   45.0   45.00   45.0   45.00   \n",
       "roku           2.0   70.000000    0.000000   70.0   70.00   70.0   70.00   \n",
       "samsung       15.0  217.666667  285.205857   30.0   82.50  150.0  245.00   \n",
       "sanyo          2.0   42.500000   10.606602   35.0   38.75   42.5   46.25   \n",
       "sceptre        1.0   10.000000         NaN   10.0   10.00   10.0   10.00   \n",
       "sony           1.0   75.000000         NaN   75.0   75.00   75.0   75.00   \n",
       "vizio          4.0   90.000000   65.701344   30.0   37.50   82.5  135.00   \n",
       "westinghouse   1.0   50.000000         NaN   50.0   50.00   50.0   50.00   \n",
       "\n",
       "                      \n",
       "                 max  \n",
       "brand                 \n",
       "crystal        380.0  \n",
       "element         25.0  \n",
       "emmerson        30.0  \n",
       "haier           35.0  \n",
       "insignia        80.0  \n",
       "jvc            400.0  \n",
       "lg             385.0  \n",
       "missing        300.0  \n",
       "mitsubishi      50.0  \n",
       "panasonic      400.0  \n",
       "polaroid        45.0  \n",
       "roku            70.0  \n",
       "samsung       1200.0  \n",
       "sanyo           50.0  \n",
       "sceptre         10.0  \n",
       "sony            75.0  \n",
       "vizio          165.0  \n",
       "westinghouse    50.0  "
      ]
     },
     "execution_count": 53,
     "metadata": {},
     "output_type": "execute_result"
    }
   ],
   "source": [
    "# Price by brand:\n",
    "df.loc[:,['price','brand']].groupby('brand').describe()"
   ]
  },
  {
   "cell_type": "code",
   "execution_count": 54,
   "metadata": {
    "id": "XP4Q0dIdy3Xa",
    "outputId": "883e5889-5d9f-472b-d686-12a257490c23"
   },
   "outputs": [
    {
     "data": {
      "text/html": [
       "<div>\n",
       "<style scoped>\n",
       "    .dataframe tbody tr th:only-of-type {\n",
       "        vertical-align: middle;\n",
       "    }\n",
       "\n",
       "    .dataframe tbody tr th {\n",
       "        vertical-align: top;\n",
       "    }\n",
       "\n",
       "    .dataframe thead tr th {\n",
       "        text-align: left;\n",
       "    }\n",
       "\n",
       "    .dataframe thead tr:last-of-type th {\n",
       "        text-align: right;\n",
       "    }\n",
       "</style>\n",
       "<table border=\"1\" class=\"dataframe\">\n",
       "  <thead>\n",
       "    <tr>\n",
       "      <th></th>\n",
       "      <th colspan=\"8\" halign=\"left\">size</th>\n",
       "    </tr>\n",
       "    <tr>\n",
       "      <th></th>\n",
       "      <th>count</th>\n",
       "      <th>mean</th>\n",
       "      <th>std</th>\n",
       "      <th>min</th>\n",
       "      <th>25%</th>\n",
       "      <th>50%</th>\n",
       "      <th>75%</th>\n",
       "      <th>max</th>\n",
       "    </tr>\n",
       "    <tr>\n",
       "      <th>brand</th>\n",
       "      <th></th>\n",
       "      <th></th>\n",
       "      <th></th>\n",
       "      <th></th>\n",
       "      <th></th>\n",
       "      <th></th>\n",
       "      <th></th>\n",
       "      <th></th>\n",
       "    </tr>\n",
       "  </thead>\n",
       "  <tbody>\n",
       "    <tr>\n",
       "      <th>crystal</th>\n",
       "      <td>1.0</td>\n",
       "      <td>65.000000</td>\n",
       "      <td>NaN</td>\n",
       "      <td>65.0</td>\n",
       "      <td>65.00</td>\n",
       "      <td>65.0</td>\n",
       "      <td>65.00</td>\n",
       "      <td>65.0</td>\n",
       "    </tr>\n",
       "    <tr>\n",
       "      <th>element</th>\n",
       "      <td>1.0</td>\n",
       "      <td>32.000000</td>\n",
       "      <td>NaN</td>\n",
       "      <td>32.0</td>\n",
       "      <td>32.00</td>\n",
       "      <td>32.0</td>\n",
       "      <td>32.00</td>\n",
       "      <td>32.0</td>\n",
       "    </tr>\n",
       "    <tr>\n",
       "      <th>emmerson</th>\n",
       "      <td>1.0</td>\n",
       "      <td>40.000000</td>\n",
       "      <td>NaN</td>\n",
       "      <td>40.0</td>\n",
       "      <td>40.00</td>\n",
       "      <td>40.0</td>\n",
       "      <td>40.00</td>\n",
       "      <td>40.0</td>\n",
       "    </tr>\n",
       "    <tr>\n",
       "      <th>haier</th>\n",
       "      <td>1.0</td>\n",
       "      <td>20.000000</td>\n",
       "      <td>NaN</td>\n",
       "      <td>20.0</td>\n",
       "      <td>20.00</td>\n",
       "      <td>20.0</td>\n",
       "      <td>20.00</td>\n",
       "      <td>20.0</td>\n",
       "    </tr>\n",
       "    <tr>\n",
       "      <th>insignia</th>\n",
       "      <td>1.0</td>\n",
       "      <td>24.000000</td>\n",
       "      <td>NaN</td>\n",
       "      <td>24.0</td>\n",
       "      <td>24.00</td>\n",
       "      <td>24.0</td>\n",
       "      <td>24.00</td>\n",
       "      <td>24.0</td>\n",
       "    </tr>\n",
       "    <tr>\n",
       "      <th>jvc</th>\n",
       "      <td>1.0</td>\n",
       "      <td>21.000000</td>\n",
       "      <td>NaN</td>\n",
       "      <td>21.0</td>\n",
       "      <td>21.00</td>\n",
       "      <td>21.0</td>\n",
       "      <td>21.00</td>\n",
       "      <td>21.0</td>\n",
       "    </tr>\n",
       "    <tr>\n",
       "      <th>lg</th>\n",
       "      <td>3.0</td>\n",
       "      <td>54.000000</td>\n",
       "      <td>16.522712</td>\n",
       "      <td>37.0</td>\n",
       "      <td>46.00</td>\n",
       "      <td>55.0</td>\n",
       "      <td>62.50</td>\n",
       "      <td>70.0</td>\n",
       "    </tr>\n",
       "    <tr>\n",
       "      <th>missing</th>\n",
       "      <td>12.0</td>\n",
       "      <td>36.500000</td>\n",
       "      <td>12.457199</td>\n",
       "      <td>15.0</td>\n",
       "      <td>30.25</td>\n",
       "      <td>37.5</td>\n",
       "      <td>44.50</td>\n",
       "      <td>55.0</td>\n",
       "    </tr>\n",
       "    <tr>\n",
       "      <th>mitsubishi</th>\n",
       "      <td>0.0</td>\n",
       "      <td>NaN</td>\n",
       "      <td>NaN</td>\n",
       "      <td>NaN</td>\n",
       "      <td>NaN</td>\n",
       "      <td>NaN</td>\n",
       "      <td>NaN</td>\n",
       "      <td>NaN</td>\n",
       "    </tr>\n",
       "    <tr>\n",
       "      <th>panasonic</th>\n",
       "      <td>3.0</td>\n",
       "      <td>44.666667</td>\n",
       "      <td>9.291573</td>\n",
       "      <td>37.0</td>\n",
       "      <td>39.50</td>\n",
       "      <td>42.0</td>\n",
       "      <td>48.50</td>\n",
       "      <td>55.0</td>\n",
       "    </tr>\n",
       "    <tr>\n",
       "      <th>polaroid</th>\n",
       "      <td>1.0</td>\n",
       "      <td>40.000000</td>\n",
       "      <td>NaN</td>\n",
       "      <td>40.0</td>\n",
       "      <td>40.00</td>\n",
       "      <td>40.0</td>\n",
       "      <td>40.00</td>\n",
       "      <td>40.0</td>\n",
       "    </tr>\n",
       "    <tr>\n",
       "      <th>roku</th>\n",
       "      <td>2.0</td>\n",
       "      <td>41.000000</td>\n",
       "      <td>12.727922</td>\n",
       "      <td>32.0</td>\n",
       "      <td>36.50</td>\n",
       "      <td>41.0</td>\n",
       "      <td>45.50</td>\n",
       "      <td>50.0</td>\n",
       "    </tr>\n",
       "    <tr>\n",
       "      <th>samsung</th>\n",
       "      <td>13.0</td>\n",
       "      <td>50.692308</td>\n",
       "      <td>15.052046</td>\n",
       "      <td>20.0</td>\n",
       "      <td>43.00</td>\n",
       "      <td>55.0</td>\n",
       "      <td>55.00</td>\n",
       "      <td>85.0</td>\n",
       "    </tr>\n",
       "    <tr>\n",
       "      <th>sanyo</th>\n",
       "      <td>2.0</td>\n",
       "      <td>42.000000</td>\n",
       "      <td>0.000000</td>\n",
       "      <td>42.0</td>\n",
       "      <td>42.00</td>\n",
       "      <td>42.0</td>\n",
       "      <td>42.00</td>\n",
       "      <td>42.0</td>\n",
       "    </tr>\n",
       "    <tr>\n",
       "      <th>sceptre</th>\n",
       "      <td>1.0</td>\n",
       "      <td>50.000000</td>\n",
       "      <td>NaN</td>\n",
       "      <td>50.0</td>\n",
       "      <td>50.00</td>\n",
       "      <td>50.0</td>\n",
       "      <td>50.00</td>\n",
       "      <td>50.0</td>\n",
       "    </tr>\n",
       "    <tr>\n",
       "      <th>sony</th>\n",
       "      <td>1.0</td>\n",
       "      <td>40.000000</td>\n",
       "      <td>NaN</td>\n",
       "      <td>40.0</td>\n",
       "      <td>40.00</td>\n",
       "      <td>40.0</td>\n",
       "      <td>40.00</td>\n",
       "      <td>40.0</td>\n",
       "    </tr>\n",
       "    <tr>\n",
       "      <th>vizio</th>\n",
       "      <td>4.0</td>\n",
       "      <td>29.750000</td>\n",
       "      <td>8.180261</td>\n",
       "      <td>18.0</td>\n",
       "      <td>28.50</td>\n",
       "      <td>32.0</td>\n",
       "      <td>33.25</td>\n",
       "      <td>37.0</td>\n",
       "    </tr>\n",
       "    <tr>\n",
       "      <th>westinghouse</th>\n",
       "      <td>1.0</td>\n",
       "      <td>50.000000</td>\n",
       "      <td>NaN</td>\n",
       "      <td>50.0</td>\n",
       "      <td>50.00</td>\n",
       "      <td>50.0</td>\n",
       "      <td>50.00</td>\n",
       "      <td>50.0</td>\n",
       "    </tr>\n",
       "  </tbody>\n",
       "</table>\n",
       "</div>"
      ],
      "text/plain": [
       "              size                                                      \n",
       "             count       mean        std   min    25%   50%    75%   max\n",
       "brand                                                                   \n",
       "crystal        1.0  65.000000        NaN  65.0  65.00  65.0  65.00  65.0\n",
       "element        1.0  32.000000        NaN  32.0  32.00  32.0  32.00  32.0\n",
       "emmerson       1.0  40.000000        NaN  40.0  40.00  40.0  40.00  40.0\n",
       "haier          1.0  20.000000        NaN  20.0  20.00  20.0  20.00  20.0\n",
       "insignia       1.0  24.000000        NaN  24.0  24.00  24.0  24.00  24.0\n",
       "jvc            1.0  21.000000        NaN  21.0  21.00  21.0  21.00  21.0\n",
       "lg             3.0  54.000000  16.522712  37.0  46.00  55.0  62.50  70.0\n",
       "missing       12.0  36.500000  12.457199  15.0  30.25  37.5  44.50  55.0\n",
       "mitsubishi     0.0        NaN        NaN   NaN    NaN   NaN    NaN   NaN\n",
       "panasonic      3.0  44.666667   9.291573  37.0  39.50  42.0  48.50  55.0\n",
       "polaroid       1.0  40.000000        NaN  40.0  40.00  40.0  40.00  40.0\n",
       "roku           2.0  41.000000  12.727922  32.0  36.50  41.0  45.50  50.0\n",
       "samsung       13.0  50.692308  15.052046  20.0  43.00  55.0  55.00  85.0\n",
       "sanyo          2.0  42.000000   0.000000  42.0  42.00  42.0  42.00  42.0\n",
       "sceptre        1.0  50.000000        NaN  50.0  50.00  50.0  50.00  50.0\n",
       "sony           1.0  40.000000        NaN  40.0  40.00  40.0  40.00  40.0\n",
       "vizio          4.0  29.750000   8.180261  18.0  28.50  32.0  33.25  37.0\n",
       "westinghouse   1.0  50.000000        NaN  50.0  50.00  50.0  50.00  50.0"
      ]
     },
     "execution_count": 54,
     "metadata": {},
     "output_type": "execute_result"
    }
   ],
   "source": [
    "# Age by brand:\n",
    "df.loc[:,['size','brand']].groupby('brand').describe()"
   ]
  },
  {
   "cell_type": "code",
   "execution_count": 59,
   "metadata": {
    "id": "lHypfI-py3Xa",
    "outputId": "1f24c08e-e5d6-4f60-a944-e1760c3fd51d"
   },
   "outputs": [
    {
     "data": {
      "text/plain": [
       "<matplotlib.legend.Legend at 0x11df8d250>"
      ]
     },
     "execution_count": 59,
     "metadata": {},
     "output_type": "execute_result"
    },
    {
     "data": {
      "image/png": "[encoded data removed]",
      "text/plain": [
       "<Figure size 432x288 with 1 Axes>"
      ]
     },
     "metadata": {
      "needs_background": "light"
     },
     "output_type": "display_data"
    }
   ],
   "source": [
    "ax = sns.scatterplot(data=df, x='size', y='price',hue='brand')\n",
    "ax.legend(loc=\"upper left\", bbox_to_anchor=(1, 1))"
   ]
  },
  {
   "cell_type": "code",
   "execution_count": 60,
   "metadata": {
    "id": "LzFhDn50y3Xa",
    "outputId": "bd26a020-f944-4b07-f98f-40a64db9d94d"
   },
   "outputs": [
    {
     "name": "stderr",
     "output_type": "stream",
     "text": [
      "/Users/johnjordan/opt/anaconda3/lib/python3.8/site-packages/pandas/core/arraylike.py:396: RuntimeWarning: divide by zero encountered in log\n",
      "  result = getattr(ufunc, method)(*inputs, **kwargs)\n"
     ]
    },
    {
     "name": "stdout",
     "output_type": "stream",
     "text": [
      "           log_price  log_size\n",
      "log_price   1.206318  0.123578\n",
      "log_size    0.123578  0.140705\n",
      "           log_price  log_size\n",
      "log_price   1.000000  0.351316\n",
      "log_size    0.351316  1.000000\n"
     ]
    },
    {
     "data": {
      "image/png": "[encoded data removed]",
      "text/plain": [
       "<Figure size 432x288 with 1 Axes>"
      ]
     },
     "metadata": {
      "needs_background": "light"
     },
     "output_type": "display_data"
    }
   ],
   "source": [
    "df['log_price'] = np.log(df['price'])\n",
    "df['log_size'] = np.log(df['size'])\n",
    "\n",
    "ax = sns.scatterplot(data=df, x='log_size', y='log_price',hue='brand')\n",
    "ax.legend(loc=\"upper left\", bbox_to_anchor=(1, 1))\n",
    "\n",
    "print(df.loc[:,['log_price','log_size']].cov())\n",
    "print(df.loc[:,['log_price','log_size']].corr())"
   ]
  },
  {
   "cell_type": "code",
   "execution_count": 57,
   "metadata": {
    "id": "9yERjzXQy3Xa",
    "outputId": "014888b7-7043-4e62-fee4-25ef1dc3f55d"
   },
   "outputs": [
    {
     "data": {
      "text/plain": [
       "<seaborn.axisgrid.JointGrid at 0x11e0f2190>"
      ]
     },
     "execution_count": 57,
     "metadata": {},
     "output_type": "execute_result"
    },
    {
     "data": {
      "image/png": "[encoded data removed]",
      "text/plain": [
       "<Figure size 432x432 with 3 Axes>"
      ]
     },
     "metadata": {
      "needs_background": "light"
     },
     "output_type": "display_data"
    }
   ],
   "source": [
    "sns.jointplot(data=df, x='log_size', y='log_price',kind='hex')"
   ]
  },
  {
   "cell_type": "markdown",
   "metadata": {
    "id": "bvLzSN6Gy3Xb"
   },
   "source": [
    "## 4. (Optional) From your search results, crawl to the links and extract more information about every listing in your original dataframe. Wrangle and do some EDA."
   ]
  },
  {
   "cell_type": "markdown",
   "metadata": {
    "id": "dd00T888y3Xa"
   },
   "source": [
    "The final thing we want to do is go from scraping a single page to crawling around.\n",
    "\n",
    "The idea here is that every web page is connected to some other page. By extracting links as we move from page to page, we can create a web crawler that wanders around for us, gathering information of interest.\n",
    "\n",
    "In this case, we want to use the search results to then visit each individual page for each listing. Since we saved the links to the web pages in the previous scrape, we can now simply for-loop over that column in the dataframe, visiting the page listing for each of the cars in the search results:"
   ]
  },
  {
   "cell_type": "code",
   "execution_count": null,
   "metadata": {
    "id": "gah68Z75y3Xa"
   },
   "outputs": [],
   "source": [
    "import time # Time delays\n",
    "import random # Random numbers\n",
    "\n",
    "links = df['link']\n",
    "data = []\n",
    "for link in links: # about 3 minutes\n",
    "    time.sleep(random.randint(1, 3)) # Random delays\n",
    "    raw = requests.get(link,headers=header) # Get page\n",
    "    bsObj = soup(raw.content,'html.parser') # Parse the html\n",
    "    #\n",
    "    try:\n",
    "        year_post = bsObj.find(class_='attr important').find(class_ = 'valu year').get_text()\n",
    "    except:\n",
    "        year_post = np.nan\n",
    "    #\n",
    "    try:\n",
    "        condition = bsObj.find(class_='attr condition').find(href=True).get_text()\n",
    "    except:\n",
    "        condition = 'missing'\n",
    "    #\n",
    "    try:\n",
    "        cylinders = bsObj.find(class_='attr auto_cylinders').find(class_ = 'valu').get_text()\n",
    "        cylinders = cylinders.replace('\\n','')\n",
    "    except:\n",
    "        cylinders = 'missing'\n",
    "    #\n",
    "    try:\n",
    "        drivetrain = bsObj.find(class_='attr auto_drivetrain').find(href=True).get_text()\n",
    "    except:\n",
    "        drivetrain = 'missing'\n",
    "    #\n",
    "    try:\n",
    "        fuel = bsObj.find(class_='attr auto_fuel_type').find(href = True).get_text()\n",
    "    except:\n",
    "        fuel = 'missing'\n",
    "    #\n",
    "    try:\n",
    "        miles = bsObj.find(class_='attr auto_miles').find(class_ = 'valu').get_text()\n",
    "    except:\n",
    "        miles = np.nan\n",
    "    #\n",
    "    try:\n",
    "        color = bsObj.find(class_='attr auto_paint').find(href=True).get_text()\n",
    "    except:\n",
    "        color='missing'\n",
    "    #\n",
    "    try:\n",
    "        title = bsObj.find(class_='attr auto_title_status').find(href=True).get_text()\n",
    "    except:\n",
    "        title='missing'\n",
    "    #\n",
    "    try:\n",
    "        transmission = bsObj.find(class_='attr auto_transmission').find(href=True).get_text()\n",
    "    except:\n",
    "        transmission = 'missing'\n",
    "    #\n",
    "    try:\n",
    "        bodytype = bsObj.find(class_='attr auto_bodytype').find(href=True).get_text()\n",
    "    except:\n",
    "        bodytype = 'missing'\n",
    "    #\n",
    "    text = bsObj.find(id='postingbody').get_text()\n",
    "    text = text.replace('\\n','')\n",
    "    text = text.replace('QR Code Link to This Post','')\n",
    "    record = {'title':title,\n",
    "              'year_post':year_post,\n",
    "              'condition':condition,\n",
    "              'cylinders':cylinders,\n",
    "              'drivetrain':drivetrain,\n",
    "              'fuel':fuel,\n",
    "              'miles':miles,\n",
    "              'color':color,\n",
    "              'title':'title',\n",
    "              'transmission':transmission,\n",
    "              'bodytype':bodytype,\n",
    "              'text':text,}\n",
    "    data.append(record)"
   ]
  },
  {
   "cell_type": "markdown",
   "metadata": {
    "id": "ro7H8V54y3Xb"
   },
   "source": [
    "What are the new features here?\n",
    "\n",
    "First, we don't want to overwhelm the servers, so we put a small delay between each request of a listing, `time.sleep(random.randint(1, 3))`. This waits a random amount of time between 1 and 3 seconds to avoid overwhelming their server.\n",
    "\n",
    "Second, we use the try/except block. This is a useful control structure in general, but especially for web scraping. Python tries the statements under `try:`, and if it fails, executes the steps under `except:`. This can happen, in this case, with missing data, which crashes the crawler. Instead, we put our missing codes into our dataframe right away.\n",
    "\n",
    "Third, we used `.find().find().get_text()` to find the data we're looking for. In general, the structure of mark-up langauges like HTML and XML makes it possible to \"drill down\" into their entries and extract the information of interest. This exploitation of mark-up languages could be the subject of a whole course on procuring data from the web."
   ]
  },
  {
   "cell_type": "markdown",
   "metadata": {
    "id": "UrI6hrL6y3Xb"
   },
   "source": [
    "With the data scraped, we can make a new dataframe, combine it with the old one using `pd.concat`, and do some wrangling to clean the data up:"
   ]
  },
  {
   "cell_type": "code",
   "execution_count": null,
   "metadata": {
    "id": "SDM-sfRay3Xb"
   },
   "outputs": [],
   "source": [
    "new_df = pd.DataFrame.from_dict(data)\n",
    "new_df.head()\n",
    "\n",
    "df = pd.concat([df,new_df],axis=1) # combine data frames\n",
    "df.head()\n",
    "\n",
    "df['miles'] = df['miles'].str.replace(',','')\n",
    "df['miles'] = pd.to_numeric(df['miles'],errors='coerce')\n",
    "\n",
    "df['year_post'] = df['year_post'].str.replace(',','')\n",
    "df['year_post'] = pd.to_numeric(df['year_post'],errors='coerce')\n",
    "df.to_csv('craiglist_cville_cars_long.csv')"
   ]
  }
 ],
 "metadata": {
  "colab": {
   "provenance": []
  },
  "kernelspec": {
   "display_name": "Python 3",
   "language": "python",
   "name": "python3"
  },
  "language_info": {
   "codemirror_mode": {
    "name": "ipython",
    "version": 3
   },
   "file_extension": ".py",
   "mimetype": "text/x-python",
   "name": "python",
   "nbconvert_exporter": "python",
   "pygments_lexer": "ipython3",
   "version": "3.8.8"
  }
 },
 "nbformat": 4,
 "nbformat_minor": 1
}
